{
 "cells": [
  {
   "cell_type": "code",
   "execution_count": 1,
   "metadata": {
    "execution": {
     "iopub.execute_input": "2024-04-29T07:06:39.501434Z",
     "iopub.status.busy": "2024-04-29T07:06:39.501245Z",
     "iopub.status.idle": "2024-04-29T07:06:45.506794Z",
     "shell.execute_reply": "2024-04-29T07:06:45.506005Z",
     "shell.execute_reply.started": "2024-04-29T07:06:39.501412Z"
    },
    "tags": []
   },
   "outputs": [],
   "source": [
    "import numpy as np\n",
    "import pandas as pd\n",
    "import torch\n",
    "import random\n",
    "from tqdm import tqdm\n",
    "import matplotlib.pyplot as plt\n",
    "from sklearn.preprocessing import LabelEncoder\n",
    "from sklearn.model_selection import train_test_split\n",
    "from sklearn.metrics import roc_auc_score\n",
    "from torch import nn, optim, Tensor\n",
    "from torch_sparse import SparseTensor, matmul\n",
    "from torch_geometric.nn.conv.gcn_conv import gcn_norm\n",
    "from torch_geometric.nn.conv import MessagePassing\n",
    "from torch_geometric.loader import DataLoader\n",
    "import torch.nn.functional as F"
   ]
  },
  {
   "cell_type": "code",
   "execution_count": 4,
   "metadata": {
    "execution": {
     "iopub.execute_input": "2024-04-29T01:39:55.682562Z",
     "iopub.status.busy": "2024-04-29T01:39:55.681490Z",
     "iopub.status.idle": "2024-04-29T01:41:41.797788Z",
     "shell.execute_reply": "2024-04-29T01:41:41.796231Z",
     "shell.execute_reply.started": "2024-04-29T01:39:55.682509Z"
    },
    "tags": []
   },
   "outputs": [
    {
     "name": "stdout",
     "output_type": "stream",
     "text": [
      "                                     id  targetId  buy\n",
      "0  ab9e82fc-9d67-11ee-be9c-7ec33eed946d         1    0\n",
      "1  ab9e891e-9d67-11ee-be9c-7ec33eed946d         1    0\n",
      "2  ab9e89be-9d67-11ee-be9c-7ec33eed946d         1    0\n",
      "3  ab9e8a2c-9d67-11ee-be9c-7ec33eed946d         1    0\n",
      "4  ab9e8a90-9d67-11ee-be9c-7ec33eed946d         1    0\n",
      "1145324\n",
      "30\n",
      "           targetId           buy\n",
      "count  3.435972e+07  3.435972e+07\n",
      "mean   2.036667e+01  6.252586e-02\n",
      "std    1.410315e+01  2.421082e-01\n",
      "min    1.000000e+00  0.000000e+00\n",
      "25%    8.000000e+00  0.000000e+00\n",
      "50%    1.550000e+01  0.000000e+00\n",
      "75%    3.200000e+01  0.000000e+00\n",
      "max    4.500000e+01  1.000000e+00\n"
     ]
    }
   ],
   "source": [
    "data = pd.read_pickle('/share/chenqiuyi/value_match_data.pkl') # 原始数据\n",
    "target = data.iloc[:, 563:].columns.tolist() # 目标列\n",
    "\n",
    "df = pd.melt(data, id_vars=['id'], value_vars=target, var_name='targetId', value_name='buy') # 将多个目标列转为两列：目标列id，值\n",
    "df['targetId'] = df['targetId'].str.replace('value', '').astype(int)\n",
    "print(df.head())\n",
    "print(len(df['id'].unique())) # ID数\n",
    "print(len(df['targetId'].unique())) # 目标列数\n",
    "print(df.describe())\n",
    "\n",
    "lbl_user = LabelEncoder() # ID编码\n",
    "lbl_target = LabelEncoder() # 目标列编码\n",
    "df.id = lbl_user.fit_transform(df.id.values)\n",
    "df.targetId = lbl_target.fit_transform(df.targetId.values)"
   ]
  },
  {
   "cell_type": "code",
   "execution_count": 5,
   "metadata": {
    "execution": {
     "iopub.execute_input": "2024-04-29T01:41:41.800170Z",
     "iopub.status.busy": "2024-04-29T01:41:41.799845Z",
     "iopub.status.idle": "2024-04-29T01:41:41.875835Z",
     "shell.execute_reply": "2024-04-29T01:41:41.874806Z",
     "shell.execute_reply.started": "2024-04-29T01:41:41.800144Z"
    },
    "tags": []
   },
   "outputs": [
    {
     "name": "stdout",
     "output_type": "stream",
     "text": [
      "1145323\n",
      "29\n"
     ]
    }
   ],
   "source": [
    "print(df.id.max()) # 编码后的ID最大值\n",
    "print(df.targetId.max()) # 编码后的目标列最大值"
   ]
  },
  {
   "cell_type": "code",
   "execution_count": 6,
   "metadata": {
    "execution": {
     "iopub.execute_input": "2024-04-29T01:41:41.877319Z",
     "iopub.status.busy": "2024-04-29T01:41:41.877058Z",
     "iopub.status.idle": "2024-04-29T01:41:42.146027Z",
     "shell.execute_reply": "2024-04-29T01:41:42.144965Z",
     "shell.execute_reply.started": "2024-04-29T01:41:41.877297Z"
    },
    "tags": []
   },
   "outputs": [
    {
     "data": {
      "text/plain": [
       "0    32211349\n",
       "1     2148371\n",
       "Name: buy, dtype: int64"
      ]
     },
     "execution_count": 6,
     "metadata": {},
     "output_type": "execute_result"
    }
   ],
   "source": [
    "df.buy.value_counts() # 统计产品购买情况，1为购买，0为未购买"
   ]
  },
  {
   "cell_type": "code",
   "execution_count": 7,
   "metadata": {
    "execution": {
     "iopub.execute_input": "2024-04-29T01:41:42.695600Z",
     "iopub.status.busy": "2024-04-29T01:41:42.695103Z",
     "iopub.status.idle": "2024-04-29T01:41:44.681859Z",
     "shell.execute_reply": "2024-04-29T01:41:44.680909Z",
     "shell.execute_reply.started": "2024-04-29T01:41:42.695572Z"
    },
    "scrolled": true,
    "tags": []
   },
   "outputs": [
    {
     "name": "stdout",
     "output_type": "stream",
     "text": [
      "1     310437\n",
      "0     275789\n",
      "2     229938\n",
      "3     153282\n",
      "4      82089\n",
      "5      41628\n",
      "6      22823\n",
      "7      12452\n",
      "8       6988\n",
      "9       4165\n",
      "10      2415\n",
      "11      1550\n",
      "12       834\n",
      "13       455\n",
      "14       245\n",
      "15       140\n",
      "16        50\n",
      "17        28\n",
      "18        13\n",
      "21         1\n",
      "19         1\n",
      "22         1\n",
      "Name: buy, dtype: int64\n",
      "1.875775763015531\n",
      "0\n",
      "22\n"
     ]
    },
    {
     "data": {
      "text/plain": [
       "id\n",
       "0          0\n",
       "1          5\n",
       "2          4\n",
       "3          0\n",
       "4          0\n",
       "          ..\n",
       "1145319    3\n",
       "1145320    2\n",
       "1145321    0\n",
       "1145322    0\n",
       "1145323    2\n",
       "Name: buy, Length: 1145324, dtype: int64"
      ]
     },
     "execution_count": 7,
     "metadata": {},
     "output_type": "execute_result"
    }
   ],
   "source": [
    "purchase_counts = df.groupby('id')['buy'].sum() # 统计每个ID购买的产品数量\n",
    "print(purchase_counts.value_counts())\n",
    "print(purchase_counts.mean()) # 平均购买数量，可观察到普遍购买数量较少\n",
    "print(purchase_counts.min()) # 最少购买数量，可观察到结果为0，说明有些ID没有购买任何产品\n",
    "print(purchase_counts.max()) # 最多购买数量，可观察到结果为22，说明有些ID购买了很多产品\n",
    "purchase_counts"
   ]
  },
  {
   "cell_type": "code",
   "execution_count": 8,
   "metadata": {
    "execution": {
     "iopub.execute_input": "2024-04-29T01:41:44.683251Z",
     "iopub.status.busy": "2024-04-29T01:41:44.682981Z",
     "iopub.status.idle": "2024-04-29T01:41:44.690240Z",
     "shell.execute_reply": "2024-04-29T01:41:44.689030Z",
     "shell.execute_reply.started": "2024-04-29T01:41:44.683228Z"
    },
    "tags": []
   },
   "outputs": [],
   "source": [
    "def load_edge(df, src_index_col, dst_index_col, link_index_col, rating_threshold=1):\n",
    "    ''' 加载边数据\n",
    "\n",
    "    :param df: 数据集\n",
    "    :param src_index_col: 源节点列名\n",
    "    :param dst_index_col: 目标节点列名\n",
    "    :param link_index_col: 边列名\n",
    "    :param rating_threshold: 评分阈值\n",
    "    :return: 边数据\n",
    "\n",
    "    '''\n",
    "    edge_index = None\n",
    "    src = [user_id for user_id in df[src_index_col]]\n",
    "    dst = [target_id for target_id in df[dst_index_col]]\n",
    "    edge_attr = torch.from_numpy(df[link_index_col].values).view(-1, 1).to(torch.long) >= rating_threshold # 得到评分大于等于阈值的边\n",
    "    # print(edge_attr)\n",
    "    edge_index = [[], []]\n",
    "    for i in range(edge_attr.shape[0]):\n",
    "        if edge_attr[i]:\n",
    "            edge_index[0].append(src[i]) # 源节点\n",
    "            edge_index[1].append(dst[i]) # 目标节点\n",
    "    return edge_index"
   ]
  },
  {
   "cell_type": "code",
   "execution_count": 9,
   "metadata": {
    "execution": {
     "iopub.execute_input": "2024-04-29T01:41:44.691865Z",
     "iopub.status.busy": "2024-04-29T01:41:44.691433Z",
     "iopub.status.idle": "2024-04-29T01:43:53.292435Z",
     "shell.execute_reply": "2024-04-29T01:43:53.291285Z",
     "shell.execute_reply.started": "2024-04-29T01:41:44.691838Z"
    },
    "tags": []
   },
   "outputs": [
    {
     "name": "stdout",
     "output_type": "stream",
     "text": [
      "2 x 2148371\n",
      "tensor([[     67,     200,     534,  ..., 1144929, 1145185, 1145300],\n",
      "        [      0,       0,       0,  ...,      29,      29,      29]])\n",
      "torch.Size([2, 2148371])\n"
     ]
    }
   ],
   "source": [
    "edge_index = load_edge(df, src_index_col='id', dst_index_col='targetId', link_index_col='buy')\n",
    "print(f\"{len(edge_index)} x {len(edge_index[0])}\") # 边数据大小\n",
    "edge_index = torch.LongTensor(edge_index)\n",
    "print(edge_index)\n",
    "print(edge_index.size())"
   ]
  },
  {
   "cell_type": "code",
   "execution_count": 10,
   "metadata": {
    "execution": {
     "iopub.execute_input": "2024-04-29T01:43:53.294130Z",
     "iopub.status.busy": "2024-04-29T01:43:53.293841Z",
     "iopub.status.idle": "2024-04-29T01:44:05.446272Z",
     "shell.execute_reply": "2024-04-29T01:44:05.445295Z",
     "shell.execute_reply.started": "2024-04-29T01:43:53.294106Z"
    },
    "tags": []
   },
   "outputs": [],
   "source": [
    "# 保存数据\n",
    "import pickle\n",
    "with open('edge_index.pkl', 'wb') as file:\n",
    "    pickle.dump(edge_index, file)\n",
    "with open('data.pkl', 'wb') as file:\n",
    "    pickle.dump(df, file)\n",
    "with open('lbl_user.pkl', 'wb') as file:\n",
    "    pickle.dump(lbl_user, file)\n",
    "with open('lbl_target.pkl', 'wb') as file:\n",
    "    pickle.dump(lbl_target, file)"
   ]
  },
  {
   "cell_type": "code",
   "execution_count": 2,
   "metadata": {
    "execution": {
     "iopub.execute_input": "2024-04-29T07:06:46.243599Z",
     "iopub.status.busy": "2024-04-29T07:06:46.242816Z",
     "iopub.status.idle": "2024-04-29T07:06:46.954854Z",
     "shell.execute_reply": "2024-04-29T07:06:46.954158Z",
     "shell.execute_reply.started": "2024-04-29T07:06:46.243568Z"
    },
    "tags": []
   },
   "outputs": [],
   "source": [
    "df = pd.read_pickle('data.pkl') # 已经处理好的数据\n",
    "edge_index = pd.read_pickle('edge_index.pkl') # 边数据\n",
    "lbl_user = pd.read_pickle('lbl_user.pkl') # ID label encoder\n",
    "lbl_target = pd.read_pickle('lbl_target.pkl') # 目标列 label encoder"
   ]
  },
  {
   "cell_type": "code",
   "execution_count": 3,
   "metadata": {
    "execution": {
     "iopub.execute_input": "2024-04-29T07:06:46.956294Z",
     "iopub.status.busy": "2024-04-29T07:06:46.956041Z",
     "iopub.status.idle": "2024-04-29T07:06:47.468863Z",
     "shell.execute_reply": "2024-04-29T07:06:47.468115Z",
     "shell.execute_reply.started": "2024-04-29T07:06:46.956274Z"
    },
    "tags": []
   },
   "outputs": [],
   "source": [
    "num_users = len(df['id'].unique()) # ID数量\n",
    "num_targets = len(df['targetId'].unique()) # 目标列数量"
   ]
  },
  {
   "cell_type": "code",
   "execution_count": 4,
   "metadata": {
    "execution": {
     "iopub.execute_input": "2024-04-29T07:06:47.470135Z",
     "iopub.status.busy": "2024-04-29T07:06:47.469908Z",
     "iopub.status.idle": "2024-04-29T07:06:51.110266Z",
     "shell.execute_reply": "2024-04-29T07:06:50.902432Z",
     "shell.execute_reply.started": "2024-04-29T07:06:47.470118Z"
    },
    "tags": []
   },
   "outputs": [],
   "source": [
    "num_interactions = edge_index.shape[1] # 交互数量\n",
    "all_indices = [i for i in range(num_interactions)]\n",
    "\n",
    "# 划分训练集、验证集和测试集\n",
    "train_indices, test_indices = train_test_split(all_indices, test_size=0.2, random_state=42)\n",
    "val_indices, test_indices = train_test_split(test_indices, test_size=0.5, random_state=42)\n",
    "train_edge_index = edge_index[:, train_indices]\n",
    "val_edge_index = edge_index[:, val_indices]\n",
    "test_edge_index = edge_index[:, test_indices]"
   ]
  },
  {
   "cell_type": "code",
   "execution_count": 5,
   "metadata": {
    "execution": {
     "iopub.execute_input": "2024-04-29T07:06:51.112054Z",
     "iopub.status.busy": "2024-04-29T07:06:51.111793Z",
     "iopub.status.idle": "2024-04-29T07:07:12.100684Z",
     "shell.execute_reply": "2024-04-29T07:07:11.900107Z",
     "shell.execute_reply.started": "2024-04-29T07:06:51.112034Z"
    },
    "tags": []
   },
   "outputs": [],
   "source": [
    "# 转为稀疏张量\n",
    "train_sparse_edge_index = SparseTensor(row=train_edge_index[0], col=train_edge_index[1]+num_users, sparse_sizes=(\n",
    "    num_users + num_targets, num_users + num_targets))\n",
    "val_sparse_edge_index = SparseTensor(row=val_edge_index[0], col=val_edge_index[1]+num_users, sparse_sizes=(\n",
    "    num_users + num_targets, num_users + num_targets))\n",
    "test_sparse_edge_index = SparseTensor(row=test_edge_index[0], col=test_edge_index[1]+num_users, sparse_sizes=(\n",
    "    num_users + num_targets, num_users + num_targets))"
   ]
  },
  {
   "cell_type": "code",
   "execution_count": 6,
   "metadata": {
    "execution": {
     "iopub.execute_input": "2024-04-29T07:07:12.102380Z",
     "iopub.status.busy": "2024-04-29T07:07:12.102080Z",
     "iopub.status.idle": "2024-04-29T07:07:12.107122Z",
     "shell.execute_reply": "2024-04-29T07:07:12.106319Z",
     "shell.execute_reply.started": "2024-04-29T07:07:12.102353Z"
    },
    "tags": []
   },
   "outputs": [
    {
     "name": "stdout",
     "output_type": "stream",
     "text": [
      "torch.Size([2, 1718696])\n",
      "torch.Size([2, 214837])\n",
      "torch.Size([2, 214838])\n"
     ]
    }
   ],
   "source": [
    "print(train_edge_index.size())\n",
    "print(val_edge_index.size())\n",
    "print(test_edge_index.size())"
   ]
  },
  {
   "cell_type": "code",
   "execution_count": 7,
   "metadata": {
    "execution": {
     "iopub.execute_input": "2024-04-29T07:07:12.108669Z",
     "iopub.status.busy": "2024-04-29T07:07:12.108075Z",
     "iopub.status.idle": "2024-04-29T07:07:12.538795Z",
     "shell.execute_reply": "2024-04-29T07:07:12.538044Z",
     "shell.execute_reply.started": "2024-04-29T07:07:12.108649Z"
    },
    "tags": []
   },
   "outputs": [
    {
     "name": "stdout",
     "output_type": "stream",
     "text": [
      "num_users 1145324, num_targets 30, num_interactions 2148371\n",
      "train_edge_index tensor([[ 42195, 470992, 281891,  ..., 335371, 431212, 572095],\n",
      "        [    28,      0,      3,  ...,      4,      1,     17]])\n",
      "total number of unique nodes 1145354\n",
      "torch.Size([796746])\n",
      "torch.Size([30])\n"
     ]
    }
   ],
   "source": [
    "print(f\"num_users {num_users}, num_targets {num_targets}, num_interactions {num_interactions}\")\n",
    "print(f\"train_edge_index {train_edge_index}\")\n",
    "print(f\"total number of unique nodes {num_users + num_targets}\")\n",
    "print(torch.unique(train_edge_index[0]).size())\n",
    "print(torch.unique(train_edge_index[1]).size())"
   ]
  },
  {
   "cell_type": "code",
   "execution_count": 8,
   "metadata": {
    "execution": {
     "iopub.execute_input": "2024-04-29T07:07:12.540039Z",
     "iopub.status.busy": "2024-04-29T07:07:12.539660Z",
     "iopub.status.idle": "2024-04-29T07:07:12.544827Z",
     "shell.execute_reply": "2024-04-29T07:07:12.544257Z",
     "shell.execute_reply.started": "2024-04-29T07:07:12.540020Z"
    },
    "tags": []
   },
   "outputs": [
    {
     "name": "stdout",
     "output_type": "stream",
     "text": [
      "SparseTensor(row=tensor([      1,       1,       1,  ..., 1145320, 1145320, 1145323]),\n",
      "             col=tensor([1145326, 1145327, 1145336,  ..., 1145326, 1145351, 1145330]),\n",
      "             size=(1145354, 1145354), nnz=1718696, density=0.00%)\n",
      "SparseTensor(row=tensor([      2,      21,      34,  ..., 1145313, 1145318, 1145323]),\n",
      "             col=tensor([1145336, 1145335, 1145335,  ..., 1145341, 1145326, 1145328]),\n",
      "             size=(1145354, 1145354), nnz=214837, density=0.00%)\n",
      "SparseTensor(row=tensor([      2,      35,      56,  ..., 1145308, 1145308, 1145314]),\n",
      "             col=tensor([1145335, 1145340, 1145325,  ..., 1145327, 1145352, 1145341]),\n",
      "             size=(1145354, 1145354), nnz=214838, density=0.00%)\n"
     ]
    }
   ],
   "source": [
    "print(train_sparse_edge_index)\n",
    "print(val_sparse_edge_index)\n",
    "print(test_sparse_edge_index)"
   ]
  },
  {
   "cell_type": "code",
   "execution_count": 9,
   "metadata": {
    "execution": {
     "iopub.execute_input": "2024-04-29T07:07:12.545751Z",
     "iopub.status.busy": "2024-04-29T07:07:12.545547Z",
     "iopub.status.idle": "2024-04-29T07:07:19.001351Z",
     "shell.execute_reply": "2024-04-29T07:07:19.000564Z",
     "shell.execute_reply.started": "2024-04-29T07:07:12.545735Z"
    },
    "tags": []
   },
   "outputs": [],
   "source": [
    "# 创建一个字典，其中键是源节点，值是与源节点连接的节点集\n",
    "# 例如，如果源节点1连接到节点2和3，那么字典将如下所示：{1: {2, 3}}\n",
    "# 这将有助于快速查找源节点的正样本\n",
    "source_nodes = edge_index[0]\n",
    "positive_nodes = edge_index[1]\n",
    "positive_dict = {source: set() for source in source_nodes.tolist()}\n",
    "for source, node in zip(source_nodes.tolist(), positive_nodes.tolist()):\n",
    "    positive_dict[source].add(node)"
   ]
  },
  {
   "cell_type": "code",
   "execution_count": 10,
   "metadata": {
    "execution": {
     "iopub.execute_input": "2024-04-29T07:07:19.003947Z",
     "iopub.status.busy": "2024-04-29T07:07:19.003347Z",
     "iopub.status.idle": "2024-04-29T07:07:19.021530Z",
     "shell.execute_reply": "2024-04-29T07:07:19.020814Z",
     "shell.execute_reply.started": "2024-04-29T07:07:19.003925Z"
    },
    "tags": []
   },
   "outputs": [],
   "source": [
    "class LightGCN(MessagePassing):\n",
    "    ''' LightGCN模型\n",
    "    \n",
    "    定义了LightGCN模型，该模型由K层GCN组成，每一层的输出是前一层的输出和原始嵌入的均值。\n",
    "\n",
    "    属性：\n",
    "    - num_users: 用户数量\n",
    "    - num_items: 产品数量\n",
    "    - embedding_dim: 嵌入维度\n",
    "    - K: GCN层数\n",
    "    - add_self_loops: 是否添加自环\n",
    "\n",
    "    '''\n",
    "    def __init__(self, num_users, num_items, embedding_dim=128, K=3, add_self_loops=False):\n",
    "        ''' 初始化LightGCN模型\n",
    "        \n",
    "        :param num_users: 用户数量\n",
    "        :param num_items: 产品数量\n",
    "        :param embedding_dim: 嵌入维度\n",
    "        :param K: GCN层数\n",
    "        :param add_self_loops: 是否添加自环\n",
    "        \n",
    "        '''        \n",
    "        super().__init__()\n",
    "        self.num_users, self.num_items = num_users, num_items\n",
    "        self.embedding_dim, self.K = embedding_dim, K\n",
    "        self.add_self_loops = add_self_loops\n",
    "\n",
    "        self.users_emb = nn.Embedding(num_embeddings=self.num_users, embedding_dim=self.embedding_dim) # e_u^0\n",
    "        self.items_emb = nn.Embedding(num_embeddings=self.num_items, embedding_dim=self.embedding_dim) # e_i^0\n",
    "        self.bn_list = nn.ModuleList([nn.BatchNorm1d(self.embedding_dim) for _ in range(K)]) # BatchNorm层\n",
    "        self.dropout_list = nn.ModuleList([nn.Dropout(p=0.2) for _ in range(K)]) # Dropout层\n",
    "        \n",
    "        # 初始化嵌入\n",
    "        nn.init.normal_(self.users_emb.weight, std=0.1)\n",
    "        nn.init.normal_(self.items_emb.weight, std=0.1)\n",
    "\n",
    "    def forward(self, edge_index: SparseTensor):\n",
    "        ''' 前向传播\n",
    "        \n",
    "        :param edge_index: 边数据\n",
    "        :return: 用户和产品的嵌入\n",
    "\n",
    "        '''        \n",
    "        edge_index_norm = gcn_norm(edge_index, add_self_loops=self.add_self_loops) # 归一化邻接矩阵\n",
    "        emb_0 = torch.cat([self.users_emb.weight, self.items_emb.weight]) # e^0\n",
    "        embs = [emb_0]\n",
    "        emb_k = emb_0\n",
    "\n",
    "        for i in range(self.K):\n",
    "            emb_k = self.propagate(edge_index_norm, x=emb_k) # e^k = f(e^{k-1})\n",
    "            emb_k = self.bn_list[i](emb_k) # BatchNorm\n",
    "            emb_k = self.dropout_list[i](emb_k) # Dropout\n",
    "            embs.append(emb_k)\n",
    "\n",
    "        embs = torch.stack(embs, dim=1) # 将所有层的嵌入堆叠\n",
    "        emb_final = torch.mean(embs, dim=1) # 求均值\n",
    "        users_emb_final, items_emb_final = torch.split(emb_final, [self.num_users, self.num_items]) # 分割用户和产品的嵌入\n",
    "        return users_emb_final, self.users_emb.weight, items_emb_final, self.items_emb.weight\n",
    "\n",
    "    def message(self, x_j: Tensor) -> Tensor:\n",
    "        ''' 消息传递\n",
    "        \n",
    "        :param x_j: 目标节点的嵌入\n",
    "        :return: 目标节点的嵌入\n",
    "        \n",
    "        '''\n",
    "        return x_j\n",
    "\n",
    "    def message_and_aggregate(self, adj_t: SparseTensor, x: Tensor) -> Tensor:\n",
    "        ''' 消息传递和聚合\n",
    "        \n",
    "        :param adj_t: 邻接矩阵\n",
    "        :param x: 嵌入\n",
    "        :return: 聚合后的嵌入\n",
    "        \n",
    "        '''\n",
    "        return matmul(adj_t, x)"
   ]
  },
  {
   "cell_type": "code",
   "execution_count": 11,
   "metadata": {
    "execution": {
     "iopub.execute_input": "2024-04-29T07:07:19.022690Z",
     "iopub.status.busy": "2024-04-29T07:07:19.022490Z",
     "iopub.status.idle": "2024-04-29T07:07:19.202780Z",
     "shell.execute_reply": "2024-04-29T07:07:19.202093Z",
     "shell.execute_reply.started": "2024-04-29T07:07:19.022673Z"
    },
    "tags": []
   },
   "outputs": [],
   "source": [
    "class NGCF(MessagePassing):\n",
    "    ''' NGCF模型\n",
    "\n",
    "    定义了NGCF模型，该模型由K层GCN组成，每一层的输出是前一层的输出和原始嵌入的线性组合。\n",
    "\n",
    "    属性：\n",
    "    - num_users: 用户数量\n",
    "    - num_items: 产品数量\n",
    "    - embedding_dim: 嵌入维度\n",
    "    - K: GCN层数\n",
    "    - add_self_loops: 是否添加自环\n",
    "\n",
    "    '''\n",
    "    def __init__(self, num_users, num_items, embedding_dim=128, K=5, add_self_loops=False):\n",
    "        ''' 初始化NGCF模型\n",
    "        \n",
    "        :param num_users: 用户数量\n",
    "        :param num_items: 产品数量\n",
    "        :param embedding_dim: 嵌入维度\n",
    "        :param K: GCN层数\n",
    "        :param add_self_loops: 是否添加自环\n",
    "        \n",
    "        '''        \n",
    "        super().__init__()\n",
    "        self.num_users, self.num_items = num_users, num_items\n",
    "        self.embedding_dim, self.K = embedding_dim, K\n",
    "        self.add_self_loops = add_self_loops\n",
    "\n",
    "        self.users_emb = nn.Embedding(num_embeddings=self.num_users, embedding_dim=self.embedding_dim) # e_u^0\n",
    "        self.items_emb = nn.Embedding(num_embeddings=self.num_items, embedding_dim=self.embedding_dim) # e_i^0\n",
    "        self.W1_list = nn.ModuleList([nn.Linear(self.embedding_dim,self.embedding_dim,bias=False) for _ in range(K)]) # 线性层\n",
    "        self.W2_list = nn.ModuleList([nn.Linear(self.embedding_dim,self.embedding_dim,bias=False) for _ in range(K)]) # 线性层\n",
    "        # self.bn_list = nn.ModuleList([nn.BatchNorm1d(self.embedding_dim) for _ in range(K)]) # BatchNorm层\n",
    "        self.dropout_list = nn.ModuleList([nn.Dropout(p=0.2) for _ in range(K)]) # Dropout层\n",
    "    \n",
    "        # 初始化参数\n",
    "        self.init_weights()\n",
    "\n",
    "    def init_weights(self):\n",
    "        ''' 初始化参数\n",
    "\n",
    "        利用Xavier初始化参数，对于每个参数，从均匀分布U(-a, a)中采样，其中a = gain * sqrt(2 / (fan_in + fan_out))。\n",
    "        \n",
    "        '''\n",
    "        for p in self.parameters():\n",
    "            if p.dim() > 1:\n",
    "                nn.init.xavier_uniform_(p)\n",
    "                \n",
    "    def forward(self, edge_index: SparseTensor):\n",
    "        ''' 前向传播\n",
    "        \n",
    "        :param edge_index: 边数据，邻接矩阵\n",
    "        :return: 用户和产品的嵌入，e_u^K, e_u^0, e_i^K, e_i^0\n",
    "        \n",
    "        '''\n",
    "        edge_index_norm = gcn_norm(edge_index, add_self_loops=self.add_self_loops) # 归一化邻接矩阵\n",
    "        emb_0 = torch.cat([self.users_emb.weight, self.items_emb.weight]) # e^0\n",
    "        embs = [emb_0]\n",
    "        emb_k = emb_0\n",
    "\n",
    "        # 多尺度扩散，multi-scale diffusion\n",
    "        for i in range(self.K):\n",
    "            emb_k = self.propagate(edge_index_norm, x=emb_k, K=i) + self.W1_list[i](emb_k) # e^k = f(e^{k-1}) + W1 * e^{k-1}\n",
    "            # emb_k = self.bn_list[i](emb_k) # BatchNorm\n",
    "            emb_k = F.leaky_relu(emb_k) # 激活函数，LeakyReLU\n",
    "            emb_k = self.dropout_list[i](emb_k) # Dropout\n",
    "            embs.append(emb_k)\n",
    "\n",
    "        emb_final = torch.cat(embs, dim=1) # e^k, e^{k-1}, ..., e^0\n",
    "\n",
    "        users_emb_final, items_emb_final = torch.split(emb_final, [self.num_users, self.num_items]) # 分割成e_u^K和e_i^K\n",
    "        \n",
    "        return users_emb_final, self.users_emb.weight, items_emb_final, self.items_emb.weight\n",
    "\n",
    "    def message(self, x_i: Tensor, x_j: Tensor, K: int ) -> Tensor:\n",
    "        ''' 消息传递\n",
    "        \n",
    "        :param x_i: 源节点的嵌入\n",
    "        :param x_j: 目标节点的嵌入\n",
    "        :param K: GCN层数\n",
    "        :return: 目标节点的嵌入\n",
    "        \n",
    "        '''\n",
    "        return self.W1_list[K](x_i) + self.W2_list[K](x_i * x_j)\n",
    "\n",
    "    def message_and_aggregate(self, adj_t: SparseTensor, x: Tensor) -> Tensor:\n",
    "        ''' 消息传递和聚合\n",
    "        \n",
    "        :param adj_t: 邻接矩阵\n",
    "        :param x: 嵌入\n",
    "        :return: 聚合后的嵌入\n",
    "        \n",
    "        '''\n",
    "        return matmul(adj_t, x)"
   ]
  },
  {
   "cell_type": "code",
   "execution_count": 12,
   "metadata": {
    "execution": {
     "iopub.execute_input": "2024-04-29T07:07:19.203860Z",
     "iopub.status.busy": "2024-04-29T07:07:19.203636Z",
     "iopub.status.idle": "2024-04-29T07:07:19.370430Z",
     "shell.execute_reply": "2024-04-29T07:07:19.369764Z",
     "shell.execute_reply.started": "2024-04-29T07:07:19.203842Z"
    },
    "tags": []
   },
   "outputs": [],
   "source": [
    "def bpr_loss(users_emb_final, users_emb_0, pos_items_emb_final, pos_items_emb_0, neg_items_emb_final, neg_items_emb_0, lambda_val):\n",
    "    ''' BPR损失函数\n",
    "    \n",
    "    :param users_emb_final: 用户的最终嵌入\n",
    "    :param users_emb_0: 用户的初始嵌入\n",
    "    :param pos_items_emb_final: 正样本产品的最终嵌入\n",
    "    :param pos_items_emb_0: 正样本产品的初始嵌入\n",
    "    :param neg_items_emb_final: 负样本产品的最终嵌入\n",
    "    :param neg_items_emb_0: 负样本产品的初始嵌入\n",
    "    :param lambda_val: 正则化系数\n",
    "    :return: 损失值\n",
    "    \n",
    "    '''\n",
    "    reg_loss = lambda_val * (users_emb_0.norm(2).pow(2) + pos_items_emb_0.norm(2).pow(2) + neg_items_emb_0.norm(2).pow(2)) # L2正则化，防止过拟合\n",
    "    pos_scores = torch.mul(users_emb_final, pos_items_emb_final)\n",
    "    pos_scores = torch.sum(pos_scores, dim=-1) # 正样本的预测分数\n",
    "    neg_scores = torch.mul(users_emb_final, neg_items_emb_final)\n",
    "    neg_scores = torch.sum(neg_scores, dim=-1) # 负样本的预测分数\n",
    "    loss = -F.logsigmoid(pos_scores - neg_scores).sum() + reg_loss # BPR损失\n",
    "    return loss"
   ]
  },
  {
   "cell_type": "code",
   "execution_count": 13,
   "metadata": {
    "execution": {
     "iopub.execute_input": "2024-04-29T07:07:19.371489Z",
     "iopub.status.busy": "2024-04-29T07:07:19.371274Z",
     "iopub.status.idle": "2024-04-29T07:07:19.555553Z",
     "shell.execute_reply": "2024-04-29T07:07:19.554869Z",
     "shell.execute_reply.started": "2024-04-29T07:07:19.371471Z"
    },
    "tags": []
   },
   "outputs": [],
   "source": [
    "def get_user_positive_items(edge_index):\n",
    "    ''' 获取用户的正样本产品\n",
    "\n",
    "    :param edge_index: 边数据\n",
    "    :return: 用户的正样本产品，字典形式，键是用户，值是产品列表\n",
    "\n",
    "    '''\n",
    "    user_pos_items = {}\n",
    "    for i in range(edge_index.shape[1]):\n",
    "        user = edge_index[0][i].item()\n",
    "        item = edge_index[1][i].item()\n",
    "        if user not in user_pos_items:\n",
    "            user_pos_items[user] = []\n",
    "        user_pos_items[user].append(item)\n",
    "    return user_pos_items"
   ]
  },
  {
   "cell_type": "code",
   "execution_count": 14,
   "metadata": {
    "execution": {
     "iopub.execute_input": "2024-04-29T07:07:19.556620Z",
     "iopub.status.busy": "2024-04-29T07:07:19.556404Z",
     "iopub.status.idle": "2024-04-29T07:07:19.728841Z",
     "shell.execute_reply": "2024-04-29T07:07:19.728151Z",
     "shell.execute_reply.started": "2024-04-29T07:07:19.556602Z"
    },
    "tags": []
   },
   "outputs": [],
   "source": [
    "def RecallPrecision_ATk(groundTruth, r, k):\n",
    "    ''' 计算Recall和Precision\n",
    "    \n",
    "    :param groundTruth: 真实值\n",
    "    :param r: 预测值\n",
    "    :param k: Top K\n",
    "    :return: Recall和Precision\n",
    "    \n",
    "    '''\n",
    "    num_correct_pred = torch.sum(r, dim=-1) # 正确预测的数量\n",
    "    user_num_liked = torch.Tensor([len(groundTruth[i]) for i in range(len(groundTruth))]) # 用户喜欢的产品数量\n",
    "    recall = torch.mean(num_correct_pred / user_num_liked) # Recall = TP / (TP + FN)\n",
    "    precision = torch.mean(num_correct_pred) / k # Precision = TP / (TP + FP)\n",
    "    return recall.item(), precision.item()\n",
    "\n",
    "def NDCGatK_r(groundTruth, r, k):\n",
    "    ''' 计算NDCG\n",
    "    \n",
    "    :param groundTruth: 真实值\n",
    "    :param r: 预测值\n",
    "    :param k: Top K\n",
    "    :return: NDCG\n",
    "    \n",
    "    '''\n",
    "    assert len(r) == len(groundTruth) # 预测值和真实值的长度必须相同\n",
    "    test_matrix = torch.zeros((len(r), k))\n",
    "    for i, items in enumerate(groundTruth): # 对于每个用户，将真实值转为矩阵，1表示用户喜欢的产品，0表示不喜欢的产品\n",
    "        length = min(len(items), k)\n",
    "        test_matrix[i, :length] = 1\n",
    "    max_r = test_matrix\n",
    "    idcg = torch.sum(max_r * 1. / torch.log2(torch.arange(2, k + 2)), axis=1) # 真实值的IDCG\n",
    "    dcg = r * (1. / torch.log2(torch.arange(2, k + 2))) # 预测值的DCG\n",
    "    dcg = torch.sum(dcg, axis=1) # DCG\n",
    "    idcg[idcg == 0.] = 1. # 防止除零\n",
    "    ndcg = dcg / idcg # NDCG\n",
    "    ndcg[torch.isnan(ndcg)] = 0. # 防止NaN\n",
    "    return torch.mean(ndcg).item()\n",
    "\n",
    "# def AUC(all_item_scores, num_items, test_data):\n",
    "#     \"\"\"\n",
    "#         design for a single user\n",
    "#     \"\"\"\n",
    "#     dataset : BasicDataset\n",
    "#     r_all = np.zeros((num_items, ))\n",
    "#     r_all[test_data] = 1\n",
    "#     r = r_all[all_item_scores >= 0]\n",
    "#     test_item_scores = all_item_scores[all_item_scores >= 0]\n",
    "#     return roc_auc_score(r, test_item_scores)"
   ]
  },
  {
   "cell_type": "code",
   "execution_count": 15,
   "metadata": {
    "execution": {
     "iopub.execute_input": "2024-04-29T07:07:19.729888Z",
     "iopub.status.busy": "2024-04-29T07:07:19.729686Z",
     "iopub.status.idle": "2024-04-29T07:07:19.898170Z",
     "shell.execute_reply": "2024-04-29T07:07:19.897515Z",
     "shell.execute_reply.started": "2024-04-29T07:07:19.729871Z"
    },
    "tags": []
   },
   "outputs": [],
   "source": [
    "def negative_sampling(positive_dict, batch_pos_edges, num_users, num_items):\n",
    "    ''' 负采样\n",
    "    \n",
    "    :param positive_dict: 正样本字典\n",
    "    :param batch_pos_edges: 批量正样本\n",
    "    :param num_users: 用户数量\n",
    "    :param num_items: 产品数量\n",
    "    :return: 负样本（源节点，目标节点，负样本节点）\n",
    "    \n",
    "    '''\n",
    "    sources = batch_pos_edges[0] # 源节点\n",
    "    negative_nodes = torch.randint(0, num_items, (batch_pos_edges.shape[1],)).tolist() # 随机负样本\n",
    "    for i, source in enumerate(sources.tolist()):\n",
    "        node = negative_nodes[i]\n",
    "        while node in positive_dict[source]: # 如果负样本是正样本，则重新采样\n",
    "            node = torch.randint(0, num_items, (1,)).item()\n",
    "            negative_nodes[i] = node\n",
    "    return batch_pos_edges[0], batch_pos_edges[1], torch.tensor(negative_nodes)"
   ]
  },
  {
   "cell_type": "code",
   "execution_count": 16,
   "metadata": {
    "execution": {
     "iopub.execute_input": "2024-04-29T07:07:19.899168Z",
     "iopub.status.busy": "2024-04-29T07:07:19.898958Z",
     "iopub.status.idle": "2024-04-29T07:07:20.057046Z",
     "shell.execute_reply": "2024-04-29T07:07:20.056278Z",
     "shell.execute_reply.started": "2024-04-29T07:07:19.899141Z"
    },
    "tags": []
   },
   "outputs": [],
   "source": [
    "def get_metrics(model, edge_index, sparse_edge_index, exclude_edge_index, train_sparse_edge_index, k):\n",
    "    ''' 获取评估指标\n",
    "    \n",
    "    :param model: 模型\n",
    "    :param edge_index: 边数据\n",
    "    :param sparse_edge_index: 稀疏边数据\n",
    "    :param exclude_edge_index: 排除的边数据\n",
    "    :param train_sparse_edge_index: 训练集稀疏边数据\n",
    "    :param k: Top K\n",
    "    :return: Recall, Precision, NDCG\n",
    "    \n",
    "    '''\n",
    "    user_embedding, _, item_embedding, _  = model.forward(sparse_edge_index) # 用户和产品的嵌入\n",
    "    \n",
    "    # 转为numpy\n",
    "    user_embedding = np.array(user_embedding.cpu().detach().numpy())\n",
    "    item_embedding = np.array(item_embedding.cpu().detach().numpy())\n",
    "    \n",
    "    # 评分\n",
    "    rating = torch.tensor(np.matmul(user_embedding, item_embedding.T))\n",
    "\n",
    "#     user_embedding = model.users_emb.weight\n",
    "#     item_embedding = model.items_emb.weight\n",
    "#     rating = torch.matmul(user_embedding, item_embedding.T)\n",
    "    \n",
    "    user_pos_items = get_user_positive_items(exclude_edge_index) # 得到用户的正样本产品\n",
    "    exclude_users = []\n",
    "    exclude_items = []\n",
    "    for user, items in user_pos_items.items():\n",
    "        exclude_users.extend([user] * len(items)) # \n",
    "        exclude_items.extend(items) # \n",
    "    rating[exclude_users, exclude_items] = -(1 << 10) # \n",
    "    \n",
    "    _, top_K_items = torch.topk(rating, k=k) # Top K产品\n",
    "    \n",
    "    users = edge_index[0].unique()\n",
    "    test_user_pos_items = get_user_positive_items(edge_index)\n",
    "    test_user_pos_items_list = [test_user_pos_items[user.item()] for user in users]\n",
    "    \n",
    "    r = []\n",
    "    for user in users:\n",
    "        ground_truth_items = test_user_pos_items[user.item()]\n",
    "        label = list(map(lambda x: x in ground_truth_items, top_K_items[user]))\n",
    "        r.append(label)\n",
    "    r = torch.Tensor(np.array(r).astype('float'))\n",
    "    \n",
    "    # rating = rating.cpu().numpy()\n",
    "    # aucs = [AUC(rating[i], num_targets, test_data) for i, test_data in enumerate(test_user_pos_items_list)]\n",
    "    # auc = np.mean(aucs)\n",
    "    \n",
    "    recall, precision = RecallPrecision_ATk(test_user_pos_items_list, r, k)\n",
    "    ndcg = NDCGatK_r(test_user_pos_items_list, r, k)\n",
    "\n",
    "    return recall, precision, ndcg"
   ]
  },
  {
   "cell_type": "code",
   "execution_count": 17,
   "metadata": {
    "execution": {
     "iopub.execute_input": "2024-04-29T07:07:20.058107Z",
     "iopub.status.busy": "2024-04-29T07:07:20.057892Z",
     "iopub.status.idle": "2024-04-29T07:07:20.186339Z",
     "shell.execute_reply": "2024-04-29T07:07:20.185646Z",
     "shell.execute_reply.started": "2024-04-29T07:07:20.058089Z"
    },
    "tags": []
   },
   "outputs": [],
   "source": [
    "def plot_curves(train_losses, recalls, precisions, ndcgs, f1s):\n",
    "    ''' 绘制曲线\n",
    "    \n",
    "    :param train_losses: 训练损失\n",
    "    :param recalls: 召回率\n",
    "    :param precisions: 精确度\n",
    "    :param ndcgs: NDCG\n",
    "    :param f1s: F1分数\n",
    "    \n",
    "    '''\n",
    "    iters1 = [iter for iter in range(len(train_losses))]\n",
    "    plt.plot(iters1, train_losses, label='train') # 训练损失\n",
    "    plt.xlabel('iteration')\n",
    "    plt.ylabel('loss')\n",
    "    plt.title('training loss curves')\n",
    "    plt.legend()\n",
    "    plt.show()\n",
    "\n",
    "    iters = [iter for iter in range(len(recalls))]\n",
    "    plt.subplot(221)\n",
    "    plt.plot(iters, recalls) # 召回率\n",
    "    plt.title(\"recall\")\n",
    "    plt.subplot(222)\n",
    "    plt.plot(iters, precisions) # 精确度\n",
    "    plt.title(\"precision\")\n",
    "    plt.subplot(223)\n",
    "    plt.plot(iters, ndcgs) # NDCG\n",
    "    plt.title(\"ndcg\")\n",
    "    plt.subplot(224)\n",
    "    plt.plot(iters, f1s)\n",
    "    plt.title(\"f1_score\")\n",
    "    plt.xlabel('iteration') # F1分数\n",
    "    plt.ylabel('score')\n",
    "    plt.legend()\n",
    "    plt.show()"
   ]
  },
  {
   "cell_type": "code",
   "execution_count": 18,
   "metadata": {
    "execution": {
     "iopub.execute_input": "2024-04-29T07:07:40.661251Z",
     "iopub.status.busy": "2024-04-29T07:07:40.660500Z",
     "iopub.status.idle": "2024-04-29T07:07:40.669632Z",
     "shell.execute_reply": "2024-04-29T07:07:40.668984Z",
     "shell.execute_reply.started": "2024-04-29T07:07:40.661226Z"
    },
    "tags": []
   },
   "outputs": [],
   "source": [
    "def train(epochs, batch_size, lambda_, check_step, K, device, model, optimizer, scheduler):\n",
    "    ''' 训练模型\n",
    "    \n",
    "    :param epochs: 迭代次数\n",
    "    :param batch_size: 批量大小\n",
    "    :param lambda_: 正则化系数\n",
    "    :param check_step: 检查步数\n",
    "    :param K: Top K\n",
    "    :param device: 设备\n",
    "    :param model: 模型\n",
    "    :param optimizer: 优化器\n",
    "    :param scheduler: 学习率调度器\n",
    "    :return: 训练后的模型\n",
    "    \n",
    "    '''\n",
    "    max_score = 0\n",
    "    train_losses = []\n",
    "    recalls = []\n",
    "    precisions = []\n",
    "    ndcgs = []\n",
    "    f1s = []\n",
    "    for epoch in tqdm(range(1, epochs+1)):\n",
    "        model.train() # 训练模式\n",
    "        trn_loader = DataLoader(train_edge_index.T, batch_size, shuffle=True) # 数据加载器\n",
    "        trn_loss = 0\n",
    "        \n",
    "        for batch_pos_edges in trn_loader:\n",
    "            users_emb_final, users_emb_0, items_emb_final, items_emb_0 = model.forward(train_sparse_edge_index) # 前向传播\n",
    "            \n",
    "            batch_pos_edges = batch_pos_edges.T\n",
    "            batch_neg_edges = negative_sampling(positive_dict, batch_pos_edges, num_users, num_targets) # 负采样\n",
    "            user_indices, pos_item_indices, neg_item_indices = batch_neg_edges[0].to(device), batch_neg_edges[1].to(device), batch_neg_edges[2].to(device)\n",
    "\n",
    "            # 分别得到用户、正样本产品和负样本产品的初始化和最终嵌入      \n",
    "            users_emb_final, users_emb_0 = users_emb_final[user_indices], users_emb_0[user_indices]\n",
    "            pos_items_emb_final, pos_items_emb_0 = items_emb_final[pos_item_indices], items_emb_0[pos_item_indices]\n",
    "            neg_items_emb_final, neg_items_emb_0 = items_emb_final[neg_item_indices], items_emb_0[neg_item_indices]\n",
    "\n",
    "            loss = bpr_loss(users_emb_final, users_emb_0, pos_items_emb_final, pos_items_emb_0, neg_items_emb_final, neg_items_emb_0, lambda_) # 计算损失\n",
    "            \n",
    "            optimizer.zero_grad() # 梯度清零\n",
    "            loss.backward() # 反向传播\n",
    "            # torch.nn.utils.clip_grad_norm_(model.parameters(), 1.0) # 梯度截断，防止梯度爆炸，选择性使用\n",
    "            optimizer.step() # 更新参数\n",
    "            \n",
    "            trn_loss += loss.item()\n",
    "            \n",
    "        trn_loss = trn_loss / len(trn_loader)\n",
    "        train_losses.append(trn_loss)\n",
    "        if epoch != 0 and epoch % check_step == 0:\n",
    "            model.eval() # 评估模式\n",
    "            recall, precision, ndcg = get_metrics(model, val_edge_index, val_sparse_edge_index, train_edge_index, train_sparse_edge_index, K) # 获取评估指标\n",
    "            f1_score = (2 * precision * recall) / (precision + recall) # F1 = 2 * (precision * recall) / (precision + recall)\n",
    "\n",
    "            recalls.append(recall)\n",
    "            precisions.append(precision)\n",
    "            ndcgs.append(ndcg)\n",
    "            f1s.append(f1_score)\n",
    "            if ndcg > max_score: # 保存最佳模型\n",
    "                max_score = ndcg\n",
    "                torch.save(model.state_dict(), 'ngcf.pt')\n",
    "                # torch.save(model.state_dict(), 'lightgcn.pt')\n",
    "            model = model.to(device) # 以防'get_metrics'函数中使用了np.matmul而不是torch.matmul\n",
    "            scheduler.step() # 学习率调度\n",
    "            print(f'[{epoch:03d}/{epochs}] | loss: {trn_loss:.6f} | recall@{K}: {recall:.6f} | '\n",
    "                f'precision@{K}: {precision:.6f} | ndcg@{K}: {ndcg:.6f} | f1_score: {f1_score:.6f}')\n",
    "    plot_curves(train_losses, recalls, precisions, ndcgs, f1s) # 绘制曲线\n",
    "    return model"
   ]
  },
  {
   "cell_type": "code",
   "execution_count": 19,
   "metadata": {
    "execution": {
     "iopub.execute_input": "2024-04-29T07:07:42.358504Z",
     "iopub.status.busy": "2024-04-29T07:07:42.357639Z",
     "iopub.status.idle": "2024-04-29T07:07:42.364742Z",
     "shell.execute_reply": "2024-04-29T07:07:42.364008Z",
     "shell.execute_reply.started": "2024-04-29T07:07:42.358479Z"
    },
    "tags": []
   },
   "outputs": [],
   "source": [
    "def evaluation(model):\n",
    "    ''' 评估模型\n",
    "    \n",
    "    :param model: 模型\n",
    "    \n",
    "    '''\n",
    "    batch_size = 2**8\n",
    "    lambda_ = 1e-4\n",
    "    K = 5\n",
    "    model.eval() # 评估模式\n",
    "    with torch.no_grad(): # 不计算梯度\n",
    "        test_loader = DataLoader(test_edge_index.T, batch_size, shuffle=True) # 加载测试数据\n",
    "        test_loss = 0\n",
    "\n",
    "        for batch_pos_edges in test_loader:\n",
    "            users_emb_final, users_emb_0, items_emb_final, items_emb_0 = model.forward(test_sparse_edge_index) # 前向传播\n",
    "            batch_pos_edges = batch_pos_edges.T\n",
    "            batch_neg_edges = negative_sampling(positive_dict, batch_pos_edges, num_users, num_targets) # 负采样\n",
    "            user_indices, pos_item_indices, neg_item_indices = batch_neg_edges[0].to(device), batch_neg_edges[1].to(device), batch_neg_edges[2].to(device)\n",
    "            users_emb_final, users_emb_0 = users_emb_final[user_indices], users_emb_0[user_indices]\n",
    "            pos_items_emb_final, pos_items_emb_0 = items_emb_final[pos_item_indices], items_emb_0[pos_item_indices]\n",
    "            neg_items_emb_final, neg_items_emb_0 = items_emb_final[neg_item_indices], items_emb_0[neg_item_indices]\n",
    "            loss = bpr_loss(users_emb_final, users_emb_0, pos_items_emb_final, pos_items_emb_0, neg_items_emb_final, neg_items_emb_0, lambda_) # 计算损失\n",
    "            test_loss += loss.item()\n",
    "\n",
    "        test_loss = test_loss / len(test_loader)\n",
    "        test_recall, test_precision, test_ndcg = get_metrics(model, test_edge_index, test_sparse_edge_index, train_edge_index, train_sparse_edge_index, K) # 计算评估指标\n",
    "        test_f1_score = (2 * test_precision * test_recall) / (test_precision + test_recall)\n",
    "        print(f'loss: {test_loss:.6f} | recall@{K}: {test_recall:.6f} | '\n",
    "                        f'precision@{K}: {test_precision:.6f} | ndcg@{K}: {test_ndcg:.6f} | f1_score: {test_f1_score:.6f}')"
   ]
  },
  {
   "cell_type": "code",
   "execution_count": 20,
   "metadata": {
    "execution": {
     "iopub.execute_input": "2024-04-29T07:07:43.807627Z",
     "iopub.status.busy": "2024-04-29T07:07:43.806759Z",
     "iopub.status.idle": "2024-04-29T07:07:45.255094Z",
     "shell.execute_reply": "2024-04-29T07:07:45.254255Z",
     "shell.execute_reply.started": "2024-04-29T07:07:43.807599Z"
    },
    "tags": []
   },
   "outputs": [
    {
     "name": "stdout",
     "output_type": "stream",
     "text": [
      "Using device cuda.\n"
     ]
    }
   ],
   "source": [
    "device = torch.device('cuda' if torch.cuda.is_available() else 'cpu') # 设备\n",
    "print(f\"Using device {device}.\")\n",
    "\n",
    "train_edge_index = train_edge_index.to(device)\n",
    "train_sparse_edge_index = train_sparse_edge_index.to(device)\n",
    "val_edge_index = val_edge_index.to(device)\n",
    "val_sparse_edge_index = val_sparse_edge_index.to(device)"
   ]
  },
  {
   "cell_type": "code",
   "execution_count": 22,
   "metadata": {
    "execution": {
     "iopub.execute_input": "2024-04-29T02:53:19.250194Z",
     "iopub.status.busy": "2024-04-29T02:53:19.249759Z",
     "iopub.status.idle": "2024-04-29T04:07:59.429344Z",
     "shell.execute_reply": "2024-04-29T04:07:59.427940Z",
     "shell.execute_reply.started": "2024-04-29T02:53:19.250164Z"
    },
    "tags": []
   },
   "outputs": [
    {
     "name": "stderr",
     "output_type": "stream",
     "text": [
      " 10%|█         | 10/100 [07:30<1:45:32, 70.37s/it]"
     ]
    },
    {
     "name": "stdout",
     "output_type": "stream",
     "text": [
      "[010/100] | loss: 12120.803512 | recall@5: 0.810671 | precision@5: 0.181406 | ndcg@5: 0.588328 | f1_score: 0.296470\n"
     ]
    },
    {
     "name": "stderr",
     "output_type": "stream",
     "text": [
      " 20%|██        | 20/100 [14:58<1:33:23, 70.04s/it]"
     ]
    },
    {
     "name": "stdout",
     "output_type": "stream",
     "text": [
      "[020/100] | loss: 4597.416942 | recall@5: 0.862644 | precision@5: 0.194637 | ndcg@5: 0.681560 | f1_score: 0.317612\n"
     ]
    },
    {
     "name": "stderr",
     "output_type": "stream",
     "text": [
      " 30%|███       | 30/100 [22:29<1:23:06, 71.23s/it]"
     ]
    },
    {
     "name": "stdout",
     "output_type": "stream",
     "text": [
      "[030/100] | loss: 3424.537914 | recall@5: 0.864815 | precision@5: 0.195518 | ndcg@5: 0.701749 | f1_score: 0.318932\n"
     ]
    },
    {
     "name": "stderr",
     "output_type": "stream",
     "text": [
      " 40%|████      | 40/100 [29:58<1:09:53, 69.88s/it]"
     ]
    },
    {
     "name": "stdout",
     "output_type": "stream",
     "text": [
      "[040/100] | loss: 2921.825555 | recall@5: 0.873535 | precision@5: 0.197537 | ndcg@5: 0.716369 | f1_score: 0.322211\n"
     ]
    },
    {
     "name": "stderr",
     "output_type": "stream",
     "text": [
      " 50%|█████     | 50/100 [37:24<57:32, 69.06s/it]  "
     ]
    },
    {
     "name": "stdout",
     "output_type": "stream",
     "text": [
      "[050/100] | loss: 2635.609520 | recall@5: 0.872826 | precision@5: 0.197516 | ndcg@5: 0.722913 | f1_score: 0.322135\n"
     ]
    },
    {
     "name": "stderr",
     "output_type": "stream",
     "text": [
      " 60%|██████    | 60/100 [44:56<47:10, 70.77s/it]"
     ]
    },
    {
     "name": "stdout",
     "output_type": "stream",
     "text": [
      "[060/100] | loss: 2448.979140 | recall@5: 0.883685 | precision@5: 0.199865 | ndcg@5: 0.733502 | f1_score: 0.325998\n"
     ]
    },
    {
     "name": "stderr",
     "output_type": "stream",
     "text": [
      " 70%|███████   | 70/100 [52:25<35:01, 70.07s/it]"
     ]
    },
    {
     "name": "stdout",
     "output_type": "stream",
     "text": [
      "[070/100] | loss: 2329.639599 | recall@5: 0.885766 | precision@5: 0.200347 | ndcg@5: 0.736258 | f1_score: 0.326781\n"
     ]
    },
    {
     "name": "stderr",
     "output_type": "stream",
     "text": [
      " 80%|████████  | 80/100 [59:46<22:32, 67.62s/it]"
     ]
    },
    {
     "name": "stdout",
     "output_type": "stream",
     "text": [
      "[080/100] | loss: 2241.143740 | recall@5: 0.883861 | precision@5: 0.199987 | ndcg@5: 0.738005 | f1_score: 0.326173\n"
     ]
    },
    {
     "name": "stderr",
     "output_type": "stream",
     "text": [
      " 90%|█████████ | 90/100 [1:07:17<11:39, 69.92s/it]"
     ]
    },
    {
     "name": "stdout",
     "output_type": "stream",
     "text": [
      "[090/100] | loss: 2173.313137 | recall@5: 0.889907 | precision@5: 0.201308 | ndcg@5: 0.742519 | f1_score: 0.328342\n"
     ]
    },
    {
     "name": "stderr",
     "output_type": "stream",
     "text": [
      "100%|██████████| 100/100 [1:14:35<00:00, 44.76s/it]"
     ]
    },
    {
     "name": "stdout",
     "output_type": "stream",
     "text": [
      "[100/100] | loss: 2123.023129 | recall@5: 0.887839 | precision@5: 0.200853 | ndcg@5: 0.742264 | f1_score: 0.327595\n"
     ]
    },
    {
     "name": "stderr",
     "output_type": "stream",
     "text": [
      "\n"
     ]
    },
    {
     "data": {
      "image/png": "[encoded data removed]",
      "text/plain": [
       "<Figure size 640x480 with 1 Axes>"
      ]
     },
     "metadata": {},
     "output_type": "display_data"
    },
    {
     "name": "stderr",
     "output_type": "stream",
     "text": [
      "No artists with labels found to put in legend.  Note that artists whose label start with an underscore are ignored when legend() is called with no argument.\n"
     ]
    },
    {
     "data": {
      "image/png": "[encoded data removed]",
      "text/plain": [
       "<Figure size 640x480 with 4 Axes>"
      ]
     },
     "metadata": {},
     "output_type": "display_data"
    }
   ],
   "source": [
    "lightgcn = LightGCN(num_users=num_users, num_items=num_targets) # LightGCN模型\n",
    "lightgcn = lightgcn.to(device)\n",
    "# optimizer = optim.Adam(lightgcn.parameters(), lr=lr)\n",
    "optimizer = optim.AdamW(lightgcn.parameters(), lr=0.01, weight_decay=1e-4) # AdamW优化器，加入L2正则化\n",
    "scheduler = optim.lr_scheduler.ExponentialLR(optimizer, gamma=0.95) # 学习率调度器，指数衰减\n",
    "lightgcn = train(epochs=100, batch_size=2**16, lambda_=1e-4, check_step=10, K=5, device=device, model=lightgcn, optimizer=optimizer, scheduler=scheduler) # 训练模型"
   ]
  },
  {
   "cell_type": "code",
   "execution_count": null,
   "metadata": {},
   "outputs": [
    {
     "name": "stderr",
     "output_type": "stream",
     "text": [
      " 20%|██        | 10/50 [10:41<1:05:54, 98.87s/it]"
     ]
    },
    {
     "name": "stdout",
     "output_type": "stream",
     "text": [
      "[010/50] | loss: 7873.700905 | recall@5: 0.717718 | precision@5: 0.162082 | ndcg@5: 0.540507 | f1_score: 0.264445\n"
     ]
    },
    {
     "name": "stderr",
     "output_type": "stream",
     "text": [
      " 40%|████      | 20/50 [21:13<48:19, 96.66s/it]  "
     ]
    },
    {
     "name": "stdout",
     "output_type": "stream",
     "text": [
      "[020/50] | loss: 2830.441897 | recall@5: 0.747871 | precision@5: 0.169167 | ndcg@5: 0.586221 | f1_score: 0.275922\n"
     ]
    },
    {
     "name": "stderr",
     "output_type": "stream",
     "text": [
      " 60%|██████    | 30/50 [31:54<32:48, 98.42s/it]"
     ]
    },
    {
     "name": "stdout",
     "output_type": "stream",
     "text": [
      "[030/50] | loss: 1605.473428 | recall@5: 0.738091 | precision@5: 0.167212 | ndcg@5: 0.590363 | f1_score: 0.272654\n"
     ]
    },
    {
     "name": "stderr",
     "output_type": "stream",
     "text": [
      " 80%|████████  | 40/50 [42:29<16:07, 96.71s/it]"
     ]
    },
    {
     "name": "stdout",
     "output_type": "stream",
     "text": [
      "[040/50] | loss: 1070.896437 | recall@5: 0.730901 | precision@5: 0.165737 | ndcg@5: 0.591027 | f1_score: 0.270204\n"
     ]
    },
    {
     "name": "stderr",
     "output_type": "stream",
     "text": [
      "100%|██████████| 50/50 [53:02<00:00, 63.65s/it]"
     ]
    },
    {
     "name": "stdout",
     "output_type": "stream",
     "text": [
      "[050/50] | loss: 787.594088 | recall@5: 0.723436 | precision@5: 0.164175 | ndcg@5: 0.586644 | f1_score: 0.267617\n"
     ]
    },
    {
     "name": "stderr",
     "output_type": "stream",
     "text": [
      "\n"
     ]
    }
   ],
   "source": [
    "ngcf = NGCF(num_users=num_users, num_items=num_targets) # NGCF模型\n",
    "ngcf = ngcf.to(device)\n",
    "# optimizer = optim.Adam(ngcf.parameters(), lr=lr)\n",
    "optimizer = optim.AdamW(ngcf.parameters(), lr=0.001, weight_decay=1e-4) # AdamW优化器，加入L2正则化\n",
    "scheduler = optim.lr_scheduler.ExponentialLR(optimizer, gamma=0.95) # 学习率调度器，指数衰减\n",
    "ngcf = train(epochs=50, batch_size=2**16, lambda_=1e-4, check_step=10, K=5, device=device, model=ngcf, optimizer=optimizer, scheduler=scheduler) # 训练模型"
   ]
  },
  {
   "cell_type": "code",
   "execution_count": null,
   "metadata": {},
   "outputs": [
    {
     "data": {
      "image/png": "[encoded data removed]",
      "text/plain": [
       "<Figure size 640x480 with 1 Axes>"
      ]
     },
     "metadata": {},
     "output_type": "display_data"
    }
   ],
   "source": []
  },
  {
   "cell_type": "code",
   "execution_count": null,
   "metadata": {},
   "outputs": [
    {
     "name": "stderr",
     "output_type": "stream",
     "text": [
      "No artists with labels found to put in legend.  Note that artists whose label start with an underscore are ignored when legend() is called with no argument.\n"
     ]
    },
    {
     "data": {
      "image/png": "[encoded data removed]",
      "text/plain": [
       "<Figure size 640x480 with 4 Axes>"
      ]
     },
     "metadata": {},
     "output_type": "display_data"
    }
   ],
   "source": []
  },
  {
   "cell_type": "code",
   "execution_count": 20,
   "metadata": {
    "execution": {
     "iopub.execute_input": "2024-04-29T06:33:25.033611Z",
     "iopub.status.busy": "2024-04-29T06:33:25.033021Z",
     "iopub.status.idle": "2024-04-29T06:33:26.423558Z",
     "shell.execute_reply": "2024-04-29T06:33:26.422801Z",
     "shell.execute_reply.started": "2024-04-29T06:33:25.033584Z"
    },
    "tags": []
   },
   "outputs": [],
   "source": [
    "device = torch.device('cuda' if torch.cuda.is_available() else 'cpu')\n",
    "test_edge_index = test_edge_index.to(device)\n",
    "test_sparse_edge_index = test_sparse_edge_index.to(device)"
   ]
  },
  {
   "cell_type": "code",
   "execution_count": null,
   "metadata": {},
   "outputs": [
    {
     "name": "stdout",
     "output_type": "stream",
     "text": [
      "loss: 75.449750 | recall@5: 0.748774 | precision@5: 0.169149 | ndcg@5: 0.587395 | f1_score: 0.275959\n"
     ]
    }
   ],
   "source": [
    "model = NGCF(num_users=num_users, num_items=num_targets)\n",
    "model.load_state_dict(torch.load('ngcf.pt')) # 加载最佳模型\n",
    "model = model.to(device)\n",
    "evaluation(model) # 评估模型"
   ]
  },
  {
   "cell_type": "code",
   "execution_count": 41,
   "metadata": {
    "execution": {
     "iopub.execute_input": "2024-04-29T06:33:28.747885Z",
     "iopub.status.busy": "2024-04-29T06:33:28.747131Z",
     "iopub.status.idle": "2024-04-29T06:59:34.766451Z",
     "shell.execute_reply": "2024-04-29T06:59:34.765710Z",
     "shell.execute_reply.started": "2024-04-29T06:57:30.209272Z"
    },
    "tags": []
   },
   "outputs": [
    {
     "name": "stdout",
     "output_type": "stream",
     "text": [
      "loss: 45.987277 | recall@5: 0.890655 | precision@5: 0.200998 | ndcg@5: 0.742478 | f1_score: 0.327979\n"
     ]
    }
   ],
   "source": [
    "model = LightGCN(num_users=num_users, num_items=num_targets)\n",
    "model.load_state_dict(torch.load('lightgcn.pt')) # 加载最佳模型\n",
    "model = model.to(device)\n",
    "evaluation(model) # 评估模型"
   ]
  },
  {
   "cell_type": "code",
   "execution_count": 42,
   "metadata": {
    "execution": {
     "iopub.execute_input": "2024-04-29T06:59:34.768290Z",
     "iopub.status.busy": "2024-04-29T06:59:34.767675Z",
     "iopub.status.idle": "2024-04-29T06:59:34.775950Z",
     "shell.execute_reply": "2024-04-29T06:59:34.775393Z",
     "shell.execute_reply.started": "2024-04-29T06:59:34.768268Z"
    }
   },
   "outputs": [
    {
     "name": "stdout",
     "output_type": "stream",
     "text": [
      "torch.Size([1145324, 30])\n"
     ]
    },
    {
     "data": {
      "text/plain": [
       "tensor([[  0.7636,   1.0429,  -2.5606,  ...,  -0.9801,  -2.1676,  -0.0626],\n",
       "        [ -7.3923, -14.9232,  37.2436,  ..., -16.9615, -17.5303, -16.0048],\n",
       "        [ -6.0736,  -6.2143,  59.3836,  ...,  -5.5511,   1.4359,  -2.3346],\n",
       "        ...,\n",
       "        [ -1.0744,   0.4127,   0.8346,  ...,   0.1279,  -0.2014,  -1.9680],\n",
       "        [  0.9262,   0.1775,   0.5527,  ...,   0.8737,   1.5381,   0.5267],\n",
       "        [ -9.4030,  -9.4505,  -4.2228,  ...,  -6.6640,   1.0476,   3.5578]],\n",
       "       device='cuda:0', grad_fn=<MmBackward0>)"
      ]
     },
     "execution_count": 42,
     "metadata": {},
     "output_type": "execute_result"
    }
   ],
   "source": [
    "rating = torch.matmul(model.users_emb.weight, model.items_emb.weight.T) # 预测评分\n",
    "print(rating.size())\n",
    "rating"
   ]
  },
  {
   "cell_type": "code",
   "execution_count": 55,
   "metadata": {
    "execution": {
     "iopub.execute_input": "2024-04-29T07:05:29.139454Z",
     "iopub.status.busy": "2024-04-29T07:05:29.138532Z",
     "iopub.status.idle": "2024-04-29T07:05:29.144217Z",
     "shell.execute_reply": "2024-04-29T07:05:29.143526Z",
     "shell.execute_reply.started": "2024-04-29T07:05:29.139423Z"
    },
    "tags": []
   },
   "outputs": [],
   "source": [
    "def make_predictions(user_id, K=5):\n",
    "    ''' 生成推荐\n",
    "    \n",
    "    :param user_id: 用户ID\n",
    "    :param K: Top K\n",
    "    :return: 推荐产品列表\n",
    "    \n",
    "    '''\n",
    "    user = lbl_user.transform([user_id])[0] # 得到用户ID编码后的值\n",
    "    e_u = np.array(model.users_emb.weight.cpu().detach().numpy())[user] # 用户的嵌入\n",
    "    i_u = np.array(model.items_emb.weight.cpu().detach().numpy()) # 产品的嵌入\n",
    "    # scores = model.items_emb.weight @ e_u\n",
    "    scores = torch.tensor(i_u @ e_u) # 评分\n",
    "\n",
    "    exclude_items = user_pos_items.get(user, []) # 排除用户已经购买的产品\n",
    "    scores[exclude_items] = -(1 << 10) # 排除用户已经购买的产品\n",
    "    values, indices = torch.topk(scores, k=K) # Top K产品\n",
    "    rec_item_list = lbl_target.inverse_transform(indices) # 推荐产品\n",
    "    return rec_item_list"
   ]
  },
  {
   "cell_type": "code",
   "execution_count": 56,
   "metadata": {
    "execution": {
     "iopub.execute_input": "2024-04-29T07:05:29.280889Z",
     "iopub.status.busy": "2024-04-29T07:05:29.280300Z",
     "iopub.status.idle": "2024-04-29T07:05:30.711699Z",
     "shell.execute_reply": "2024-04-29T07:05:30.710952Z",
     "shell.execute_reply.started": "2024-04-29T07:05:29.280866Z"
    },
    "tags": []
   },
   "outputs": [
    {
     "data": {
      "text/plain": [
       "array([ 2,  4, 30,  1, 39])"
      ]
     },
     "execution_count": 56,
     "metadata": {},
     "output_type": "execute_result"
    }
   ],
   "source": [
    "user_id = 'ab9e82fc-9d67-11ee-be9c-7ec33eed946d'\n",
    "rec_item_list = make_predictions(user_id)\n",
    "rec_item_list"
   ]
  },
  {
   "cell_type": "code",
   "execution_count": null,
   "metadata": {},
   "outputs": [],
   "source": []
  }
 ],
 "metadata": {
  "kernelspec": {
   "display_name": "Python 3 (ipykernel)",
   "language": "python",
   "name": "python3"
  },
  "language_info": {
   "codemirror_mode": {
    "name": "ipython",
    "version": 3
   },
   "file_extension": ".py",
   "mimetype": "text/x-python",
   "name": "python",
   "nbconvert_exporter": "python",
   "pygments_lexer": "ipython3",
   "version": "3.12.2"
  }
 },
 "nbformat": 4,
 "nbformat_minor": 4
}
